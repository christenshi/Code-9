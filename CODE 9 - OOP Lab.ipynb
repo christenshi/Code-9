{
 "cells": [
  {
   "cell_type": "code",
   "execution_count": 7,
   "id": "7ce6f3a5",
   "metadata": {},
   "outputs": [],
   "source": [
    "class Patients:\n",
    "    def __init__(self, name , age , gender, blood_pressure, temperature):\n",
    "        self.name = name\n",
    "        self.age = age\n",
    "        self.gender = gender\n",
    "        self.blood_pressure = blood_pressure\n",
    "        self.temperature = temperature\n",
    "    \n",
    "    def display_patient_info(self):\n",
    "        print(f\"Name: {self.name}\\nAge: {self.age}\\nGender: {self.gender}\\nBlood Pressure: {self.blood_pressure[0]} / {self.blood_pressure[1]}\\nTemperature: {self.temperature}\")\n",
    "        \n",
    "    def is_hypertensive(self):\n",
    "        systolic, diastolic = self.blood_pressure\n",
    "        return systolic >= 140 or diastolic >= 90\n",
    "    \n",
    "    def is_feverish(self):\n",
    "        return self.temperature >= 37.5"
   ]
  },
  {
   "cell_type": "code",
   "execution_count": 8,
   "id": "415255a4",
   "metadata": {},
   "outputs": [],
   "source": [
    "# Defining data\n",
    "patient1 = Patients(\"John Doe\", 45, \"Male\", (140, 85), 36.8)\n",
    "patient2 = Patients(\"Jane Smith\", 32, \"Female\", (130,88), 37.6)"
   ]
  },
  {
   "cell_type": "code",
   "execution_count": 9,
   "id": "23fc3240",
   "metadata": {},
   "outputs": [
    {
     "name": "stdout",
     "output_type": "stream",
     "text": [
      "Name: John Doe\n",
      "Age: 45\n",
      "Gender: Male\n",
      "Blood Pressure: 140 / 85\n",
      "Temperature: 36.8\n"
     ]
    }
   ],
   "source": [
    "# Display the patient information\n",
    "patient1.display_patient_info()"
   ]
  },
  {
   "cell_type": "code",
   "execution_count": 10,
   "id": "634869d0",
   "metadata": {},
   "outputs": [
    {
     "data": {
      "text/plain": [
       "True"
      ]
     },
     "execution_count": 10,
     "metadata": {},
     "output_type": "execute_result"
    }
   ],
   "source": [
    "# Checking for hypertension\n",
    "patient1.is_hypertensive()"
   ]
  },
  {
   "cell_type": "code",
   "execution_count": 11,
   "id": "df9981b6",
   "metadata": {},
   "outputs": [
    {
     "data": {
      "text/plain": [
       "False"
      ]
     },
     "execution_count": 11,
     "metadata": {},
     "output_type": "execute_result"
    }
   ],
   "source": [
    "# Checking for fever\n",
    "patient1.is_feverish()"
   ]
  },
  {
   "cell_type": "code",
   "execution_count": 13,
   "id": "7a55d95f",
   "metadata": {},
   "outputs": [
    {
     "name": "stdout",
     "output_type": "stream",
     "text": [
      "Name: Jane Smith\n",
      "Age: 32\n",
      "Gender: Female\n",
      "Blood Pressure: 130 / 88\n",
      "Temperature: 37.6\n"
     ]
    }
   ],
   "source": [
    "# Display the patient information\n",
    "patient2.display_patient_info()"
   ]
  },
  {
   "cell_type": "code",
   "execution_count": 14,
   "id": "0a007955",
   "metadata": {},
   "outputs": [
    {
     "data": {
      "text/plain": [
       "False"
      ]
     },
     "execution_count": 14,
     "metadata": {},
     "output_type": "execute_result"
    }
   ],
   "source": [
    "# Display for hypertension\n",
    "patient2.is_hypertensive()"
   ]
  },
  {
   "cell_type": "code",
   "execution_count": 15,
   "id": "a4356046",
   "metadata": {},
   "outputs": [
    {
     "data": {
      "text/plain": [
       "True"
      ]
     },
     "execution_count": 15,
     "metadata": {},
     "output_type": "execute_result"
    }
   ],
   "source": [
    "# Display for fever\n",
    "patient2.is_feverish()"
   ]
  },
  {
   "cell_type": "code",
   "execution_count": null,
   "id": "4262a432",
   "metadata": {},
   "outputs": [],
   "source": []
  }
 ],
 "metadata": {
  "kernelspec": {
   "display_name": "Python 3 (ipykernel)",
   "language": "python",
   "name": "python3"
  },
  "language_info": {
   "codemirror_mode": {
    "name": "ipython",
    "version": 3
   },
   "file_extension": ".py",
   "mimetype": "text/x-python",
   "name": "python",
   "nbconvert_exporter": "python",
   "pygments_lexer": "ipython3",
   "version": "3.11.4"
  }
 },
 "nbformat": 4,
 "nbformat_minor": 5
}
